{
  "nbformat": 4,
  "nbformat_minor": 0,
  "metadata": {
    "colab": {
      "provenance": [],
      "authorship_tag": "ABX9TyMgeE6oaq9FCi3Ctz9nZlmU",
      "include_colab_link": true
    },
    "kernelspec": {
      "name": "python3",
      "display_name": "Python 3"
    },
    "language_info": {
      "name": "python"
    }
  },
  "cells": [
    {
      "cell_type": "markdown",
      "metadata": {
        "id": "view-in-github",
        "colab_type": "text"
      },
      "source": [
        "<a href=\"https://colab.research.google.com/github/qotrunnadaalaik/KKA-X-Semester-1-qotrunnada/blob/main/1_fungsi_print_(nada)x_1.ipynb\" target=\"_parent\"><img src=\"https://colab.research.google.com/assets/colab-badge.svg\" alt=\"Open In Colab\"/></a>"
      ]
    },
    {
      "cell_type": "markdown",
      "source": [
        "nama:qotrunnada dalilah\n",
        "\n",
        "kelas:x1\n",
        "\n",
        "absen:28"
      ],
      "metadata": {
        "id": "WSE6KQCg87Ao"
      }
    },
    {
      "cell_type": "code",
      "source": [],
      "metadata": {
        "id": "RAtxb-1G3tfv"
      },
      "execution_count": null,
      "outputs": []
    },
    {
      "cell_type": "markdown",
      "source": [
        "#Menampilkan Teks Bebas"
      ],
      "metadata": {
        "id": "P77OmmAP_DGt"
      }
    },
    {
      "cell_type": "code",
      "source": [
        "print(\"hello world\")"
      ],
      "metadata": {
        "colab": {
          "base_uri": "https://localhost:8080/"
        },
        "id": "Nb6OUw_7_K6R",
        "outputId": "70e9cc7f-9712-4ff2-a1ce-8e892c00ae5b"
      },
      "execution_count": null,
      "outputs": [
        {
          "output_type": "stream",
          "name": "stdout",
          "text": [
            "hello world\n"
          ]
        }
      ]
    },
    {
      "cell_type": "code",
      "source": [
        "nama = \"qotrunnada dalilah\"\n",
        "print(nama)"
      ],
      "metadata": {
        "colab": {
          "base_uri": "https://localhost:8080/"
        },
        "id": "Pd43-oRx8_Hw",
        "outputId": "f5b5e869-ee3a-4dc6-a110-cfed02dbe937"
      },
      "execution_count": null,
      "outputs": [
        {
          "output_type": "stream",
          "name": "stdout",
          "text": [
            "qotrunnada dalilah\n"
          ]
        }
      ]
    },
    {
      "cell_type": "markdown",
      "source": [
        "#Menampilkan Nilai Variabel"
      ],
      "metadata": {
        "id": "DLPTbnAnAkj3"
      }
    },
    {
      "cell_type": "code",
      "source": [
        "nama_idola = \"hannan attaqi\"\n",
        "\n",
        "print(nama_idola)"
      ],
      "metadata": {
        "colab": {
          "base_uri": "https://localhost:8080/"
        },
        "id": "viAvNhjKASTs",
        "outputId": "948bdec3-1eb1-48a2-fcd5-b1544a2bee09"
      },
      "execution_count": null,
      "outputs": [
        {
          "output_type": "stream",
          "name": "stdout",
          "text": [
            "hannan attaqi\n"
          ]
        }
      ]
    },
    {
      "cell_type": "code",
      "source": [
        "usia = 15\n",
        "\n",
        "print(usia)"
      ],
      "metadata": {
        "colab": {
          "base_uri": "https://localhost:8080/"
        },
        "id": "Q3x8-qOUBD8i",
        "outputId": "98070580-2cd0-423e-b83a-55217928698e"
      },
      "execution_count": null,
      "outputs": [
        {
          "output_type": "stream",
          "name": "stdout",
          "text": [
            "15\n"
          ]
        }
      ]
    },
    {
      "cell_type": "markdown",
      "source": [
        "latihan soal:\n",
        "1. buatkan nama saudara & tampilkan\n",
        "2. buatkan jumlah saudara & tampilkan"
      ],
      "metadata": {
        "id": "y3XcWp0kBSR-"
      }
    },
    {
      "cell_type": "code",
      "execution_count": null,
      "metadata": {
        "colab": {
          "base_uri": "https://localhost:8080/"
        },
        "id": "4P67C-9a1ikn",
        "outputId": "38c70dd9-a216-4a3c-e481-b8d057db0309"
      },
      "outputs": [
        {
          "output_type": "stream",
          "name": "stdout",
          "text": [
            "ajeng\n"
          ]
        }
      ],
      "source": [
        "nama_saudara=\"ajeng\"\n",
        "print(nama_saudara)"
      ]
    },
    {
      "cell_type": "code",
      "source": [
        "jumlah_saudara=\"3\"\n",
        "print(jumlah_saudara)"
      ],
      "metadata": {
        "colab": {
          "base_uri": "https://localhost:8080/"
        },
        "id": "Nsx1fe027e2X",
        "outputId": "332d8ac3-f456-4733-fc8b-9a35d400489f"
      },
      "execution_count": null,
      "outputs": [
        {
          "output_type": "stream",
          "name": "stdout",
          "text": [
            "3\n"
          ]
        }
      ]
    },
    {
      "cell_type": "markdown",
      "source": [
        "#Menampilkan nilai variable dan string"
      ],
      "metadata": {
        "id": "7A46VgUj7oOX"
      }
    },
    {
      "cell_type": "code",
      "source": [
        "print(\"nama: qotrunnada\")\n",
        "print(\"kelas: x.1\")\n",
        "print(\"no.absen:28\")"
      ],
      "metadata": {
        "colab": {
          "base_uri": "https://localhost:8080/"
        },
        "id": "m1P28l5D9jrT",
        "outputId": "44486458-8f41-44e2-9203-346226e42304"
      },
      "execution_count": null,
      "outputs": [
        {
          "output_type": "stream",
          "name": "stdout",
          "text": [
            "nama: qotrunnada\n",
            "kelas: x.1\n",
            "no.absen:28\n"
          ]
        }
      ]
    },
    {
      "cell_type": "code",
      "source": [
        "print(\"nama:qotrunnada\\nkelas:x.1\\nNo.absen:28\")"
      ],
      "metadata": {
        "colab": {
          "base_uri": "https://localhost:8080/"
        },
        "id": "HnH5ImWA9__H",
        "outputId": "bc5c38a4-fca5-4caa-abc3-f939280cf838"
      },
      "execution_count": null,
      "outputs": [
        {
          "output_type": "stream",
          "name": "stdout",
          "text": [
            "nama:qotrunnada\n",
            "kelas:x.1\n",
            "No.absen:28\n"
          ]
        }
      ]
    },
    {
      "cell_type": "code",
      "source": [
        "print(\"\"\"nama\\t\\t:qotrunnada\n",
        "kelas\\t\\t:x.1\n",
        "no.absen\\t:28\"\"\")"
      ],
      "metadata": {
        "colab": {
          "base_uri": "https://localhost:8080/"
        },
        "id": "bU0gqKqU-Y2n",
        "outputId": "d72b62f1-950e-47b1-f019-39c89aee231d"
      },
      "execution_count": null,
      "outputs": [
        {
          "output_type": "stream",
          "name": "stdout",
          "text": [
            "nama\t\t:qotrunnada      \n",
            "kelas\t\t:x.1\n",
            "no.absen\t:28\n"
          ]
        }
      ]
    }
  ]
}